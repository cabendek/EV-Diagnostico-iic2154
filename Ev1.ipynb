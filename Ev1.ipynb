{
 "cells": [
  {
   "cell_type": "code",
   "execution_count": 1,
   "metadata": {},
   "outputs": [
    {
     "name": "stdout",
     "output_type": "stream",
     "text": [
      "EVALUACIÓN DE DIAGNOSTICO\n",
      "======== IIC2154 ========\n"
     ]
    }
   ],
   "source": [
    "print(\"EVALUACIÓN DE DIAGNOSTICO\\n======== IIC2154 ========\");"
   ]
  },
  {
   "cell_type": "code",
   "execution_count": 23,
   "metadata": {},
   "outputs": [
    {
     "name": "stdout",
     "output_type": "stream",
     "text": [
      "Hola, a continuación les contaré mi triste historia:\n",
      "\n"
     ]
    }
   ],
   "source": [
    "# Imports PIL module \n",
    "from PIL import Image\n",
    "  \n",
    "print(\"Hola, a continuación les contaré mi triste historia:\")\n",
    "# open method used to open different extension image file\n",
    "im = Image.open(r\"img.jpg\") \n",
    "im.show() "
   ]
  },
  {
   "cell_type": "code",
   "execution_count": 10,
   "metadata": {},
   "outputs": [
    {
     "name": "stdout",
     "output_type": "stream",
     "text": [
      "Queridos ayudantes debo confesarles que no logre realizar las actividades, no por que no quiera, pero lamentablemente mi computador no se pudo la base de datos Visual Studio se demoró más de 15 min en únicamente cargar la data y posteriormente se reincio :(\n"
     ]
    }
   ],
   "source": [
    "print(\"Queridos ayudantes debo confesarles que no \\\n",
    "logre realizar las actividades, no por que no quiera, \\\n",
    "pero lamentablemente mi computador no se pudo la base de datos \\\n",
    "Visual Studio se demoró más de 15 min en únicamente cargar \\\n",
    "la data y posteriormente se reincio :( \")"
   ]
  },
  {
   "cell_type": "code",
   "execution_count": 18,
   "metadata": {},
   "outputs": [
    {
     "name": "stdout",
     "output_type": "stream",
     "text": [
      "Realmente no es por excusarme, pero inclusive trate de utilizar Colaboratory de Google, pero por alguna extraña razón no cargaba la base de datos completa (aun que haya tratadovarias veces) por lo que al querer hacer el read_json este me arrojaba el error:\n",
      "\n",
      "ValueError: Unmatched '' when when decoding string\"\n",
      "\n",
      "Por lo que nunca pude cargar la data, nisiquiera en     plataformas como Colab\n"
     ]
    }
   ],
   "source": [
    "print(\"Realmente no es por excusarme, pero inclusive trate \\\n",
    "de utilizar Colaboratory de Google, pero por alguna extraña \\\n",
    "razón no cargaba la base de datos completa (aun que haya tratado\\\n",
    "varias veces) por lo que al querer hacer el read_json este me \\\n",
    "arrojaba el error:\\n\")\n",
    "print(\"ValueError: Unmatched ''\"' when when decoding string\"\\n')\n",
    "print(\"Por lo que nunca pude cargar la data, nisiquiera en \\\n",
    "plataformas como Colab.\")"
   ]
  }
 ],
 "metadata": {
  "interpreter": {
   "hash": "aee8b7b246df8f9039afb4144a1f6fd8d2ca17a180786b69acc140d282b71a49"
  },
  "kernelspec": {
   "display_name": "Python 3.9.7 64-bit",
   "name": "python3"
  },
  "language_info": {
   "codemirror_mode": {
    "name": "ipython",
    "version": 3
   },
   "file_extension": ".py",
   "mimetype": "text/x-python",
   "name": "python",
   "nbconvert_exporter": "python",
   "pygments_lexer": "ipython3",
   "version": "3.9.7"
  },
  "orig_nbformat": 4
 },
 "nbformat": 4,
 "nbformat_minor": 2
}
